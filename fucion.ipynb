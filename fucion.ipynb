{
 "cells": [
  {
   "cell_type": "code",
   "execution_count": 2,
   "metadata": {},
   "outputs": [],
   "source": [
    "import nbformat\n",
    "\n",
    "# Leer el contenido de los archivos ETL1.ipynb y ETL2.ipynb\n",
    "with open('ETL1.ipynb', 'r', encoding='utf-8') as file1, open('ETL2.ipynb', 'r', encoding='utf-8') as file2:\n",
    "    nb1 = nbformat.read(file1, as_version=4)\n",
    "    nb2 = nbformat.read(file2, as_version=4)\n",
    "\n",
    "# Combinar las celdas de ambos notebooks\n",
    "nb1.cells.extend(nb2.cells)\n",
    "\n",
    "# Guardar el resultado en un nuevo archivo llamado ETL.ipynb\n",
    "with open('ETL.ipynb', 'w', encoding='utf-8') as outfile:\n",
    "    nbformat.write(nb1, outfile)\n"
   ]
  }
 ],
 "metadata": {
  "kernelspec": {
   "display_name": "Lab",
   "language": "python",
   "name": "python3"
  },
  "language_info": {
   "codemirror_mode": {
    "name": "ipython",
    "version": 3
   },
   "file_extension": ".py",
   "mimetype": "text/x-python",
   "name": "python",
   "nbconvert_exporter": "python",
   "pygments_lexer": "ipython3",
   "version": "3.11.8"
  }
 },
 "nbformat": 4,
 "nbformat_minor": 2
}

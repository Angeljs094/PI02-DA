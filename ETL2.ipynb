{
 "cells": [
  {
   "cell_type": "code",
   "execution_count": 1,
   "metadata": {},
   "outputs": [],
   "source": [
    "import pandas as pd\n",
    "import numpy as np\n",
    "from funciones import contar_valores_sd\n",
    "from funciones import data_cleaned\n",
    "import warnings\n",
    "warnings.filterwarnings(\"ignore\", message=\"Downcasting.*\", category=FutureWarning)"
   ]
  },
  {
   "cell_type": "code",
   "execution_count": 2,
   "metadata": {},
   "outputs": [],
   "source": [
    "df_lesiones_h = pd.read_excel(\"DataSets/lesiones.xlsx\", sheet_name=\"HECHOS\")"
   ]
  },
  {
   "cell_type": "markdown",
   "metadata": {},
   "source": [
    "## 3.4. Dataset: Lesiones - Hechos"
   ]
  },
  {
   "cell_type": "markdown",
   "metadata": {},
   "source": [
    "### 3.3.1. Exploración inicial de los datos"
   ]
  },
  {
   "cell_type": "code",
   "execution_count": 3,
   "metadata": {},
   "outputs": [
    {
     "data": {
      "text/html": [
       "<div>\n",
       "<style scoped>\n",
       "    .dataframe tbody tr th:only-of-type {\n",
       "        vertical-align: middle;\n",
       "    }\n",
       "\n",
       "    .dataframe tbody tr th {\n",
       "        vertical-align: top;\n",
       "    }\n",
       "\n",
       "    .dataframe thead th {\n",
       "        text-align: right;\n",
       "    }\n",
       "</style>\n",
       "<table border=\"1\" class=\"dataframe\">\n",
       "  <thead>\n",
       "    <tr style=\"text-align: right;\">\n",
       "      <th></th>\n",
       "      <th>id</th>\n",
       "      <th>n_victimas</th>\n",
       "      <th>aaaa</th>\n",
       "      <th>mm</th>\n",
       "      <th>dd</th>\n",
       "      <th>fecha</th>\n",
       "      <th>hora</th>\n",
       "      <th>franja_hora</th>\n",
       "      <th>direccion_normalizada</th>\n",
       "      <th>comuna</th>\n",
       "      <th>...</th>\n",
       "      <th>latutid</th>\n",
       "      <th>victima</th>\n",
       "      <th>acusado</th>\n",
       "      <th>participantes</th>\n",
       "      <th>moto</th>\n",
       "      <th>auto</th>\n",
       "      <th>transporte_publico</th>\n",
       "      <th>camion</th>\n",
       "      <th>ciclista</th>\n",
       "      <th>gravedad</th>\n",
       "    </tr>\n",
       "  </thead>\n",
       "  <tbody>\n",
       "    <tr>\n",
       "      <th>0</th>\n",
       "      <td>LC-2019-0000179</td>\n",
       "      <td>1</td>\n",
       "      <td>2019</td>\n",
       "      <td>1</td>\n",
       "      <td>1</td>\n",
       "      <td>2019-01-01 00:00:00</td>\n",
       "      <td>09:00:00</td>\n",
       "      <td>9</td>\n",
       "      <td>SD</td>\n",
       "      <td>14</td>\n",
       "      <td>...</td>\n",
       "      <td>-34.559658</td>\n",
       "      <td>CICLISTA</td>\n",
       "      <td>SD</td>\n",
       "      <td>CICLISTA-SD</td>\n",
       "      <td>SD</td>\n",
       "      <td>SD</td>\n",
       "      <td>SD</td>\n",
       "      <td>SD</td>\n",
       "      <td>x</td>\n",
       "      <td>SD</td>\n",
       "    </tr>\n",
       "    <tr>\n",
       "      <th>1</th>\n",
       "      <td>LC-2019-0000053</td>\n",
       "      <td>1</td>\n",
       "      <td>2019</td>\n",
       "      <td>1</td>\n",
       "      <td>1</td>\n",
       "      <td>2019-01-01 00:00:00</td>\n",
       "      <td>01:55:00</td>\n",
       "      <td>1</td>\n",
       "      <td>SD</td>\n",
       "      <td>8</td>\n",
       "      <td>...</td>\n",
       "      <td>-34.669125</td>\n",
       "      <td>AUTO</td>\n",
       "      <td>SD</td>\n",
       "      <td>AUTO-SD</td>\n",
       "      <td>SD</td>\n",
       "      <td>x</td>\n",
       "      <td>SD</td>\n",
       "      <td>SD</td>\n",
       "      <td>SD</td>\n",
       "      <td>SD</td>\n",
       "    </tr>\n",
       "    <tr>\n",
       "      <th>2</th>\n",
       "      <td>LC-2019-0000063</td>\n",
       "      <td>1</td>\n",
       "      <td>2019</td>\n",
       "      <td>1</td>\n",
       "      <td>1</td>\n",
       "      <td>2019-01-01 00:00:00</td>\n",
       "      <td>02:00:00</td>\n",
       "      <td>2</td>\n",
       "      <td>SD</td>\n",
       "      <td>8</td>\n",
       "      <td>...</td>\n",
       "      <td>-34.677556</td>\n",
       "      <td>SD</td>\n",
       "      <td>SD</td>\n",
       "      <td>SD-SD</td>\n",
       "      <td>SD</td>\n",
       "      <td>SD</td>\n",
       "      <td>SD</td>\n",
       "      <td>SD</td>\n",
       "      <td>SD</td>\n",
       "      <td>SD</td>\n",
       "    </tr>\n",
       "    <tr>\n",
       "      <th>3</th>\n",
       "      <td>LC-2019-0000079</td>\n",
       "      <td>1</td>\n",
       "      <td>2019</td>\n",
       "      <td>1</td>\n",
       "      <td>1</td>\n",
       "      <td>2019-01-01 00:00:00</td>\n",
       "      <td>02:30:00</td>\n",
       "      <td>2</td>\n",
       "      <td>SD</td>\n",
       "      <td>7</td>\n",
       "      <td>...</td>\n",
       "      <td>-34.647349</td>\n",
       "      <td>PEATON</td>\n",
       "      <td>SD</td>\n",
       "      <td>PEATON-SD</td>\n",
       "      <td>x</td>\n",
       "      <td>SD</td>\n",
       "      <td>SD</td>\n",
       "      <td>SD</td>\n",
       "      <td>SD</td>\n",
       "      <td>SD</td>\n",
       "    </tr>\n",
       "    <tr>\n",
       "      <th>4</th>\n",
       "      <td>LC-2019-0000082</td>\n",
       "      <td>4</td>\n",
       "      <td>2019</td>\n",
       "      <td>1</td>\n",
       "      <td>1</td>\n",
       "      <td>2019-01-01 00:00:00</td>\n",
       "      <td>04:30:00</td>\n",
       "      <td>4</td>\n",
       "      <td>SD</td>\n",
       "      <td>3</td>\n",
       "      <td>...</td>\n",
       "      <td>-34.604579</td>\n",
       "      <td>AUTO</td>\n",
       "      <td>SD</td>\n",
       "      <td>AUTO-SD</td>\n",
       "      <td>SD</td>\n",
       "      <td>SD</td>\n",
       "      <td>x</td>\n",
       "      <td>SD</td>\n",
       "      <td>SD</td>\n",
       "      <td>SD</td>\n",
       "    </tr>\n",
       "  </tbody>\n",
       "</table>\n",
       "<p>5 rows × 27 columns</p>\n",
       "</div>"
      ],
      "text/plain": [
       "                id  n_victimas  aaaa  mm  dd                fecha      hora  \\\n",
       "0  LC-2019-0000179           1  2019   1   1  2019-01-01 00:00:00  09:00:00   \n",
       "1  LC-2019-0000053           1  2019   1   1  2019-01-01 00:00:00  01:55:00   \n",
       "2  LC-2019-0000063           1  2019   1   1  2019-01-01 00:00:00  02:00:00   \n",
       "3  LC-2019-0000079           1  2019   1   1  2019-01-01 00:00:00  02:30:00   \n",
       "4  LC-2019-0000082           4  2019   1   1  2019-01-01 00:00:00  04:30:00   \n",
       "\n",
       "  franja_hora direccion_normalizada comuna  ...     latutid   victima acusado  \\\n",
       "0           9                    SD     14  ...  -34.559658  CICLISTA      SD   \n",
       "1           1                    SD      8  ...  -34.669125      AUTO      SD   \n",
       "2           2                    SD      8  ...  -34.677556        SD      SD   \n",
       "3           2                    SD      7  ...  -34.647349    PEATON      SD   \n",
       "4           4                    SD      3  ...  -34.604579      AUTO      SD   \n",
       "\n",
       "   participantes moto auto transporte_publico camion ciclista gravedad  \n",
       "0    CICLISTA-SD   SD   SD                 SD     SD        x       SD  \n",
       "1        AUTO-SD   SD    x                 SD     SD       SD       SD  \n",
       "2          SD-SD   SD   SD                 SD     SD       SD       SD  \n",
       "3      PEATON-SD    x   SD                 SD     SD       SD       SD  \n",
       "4        AUTO-SD   SD   SD                  x     SD       SD       SD  \n",
       "\n",
       "[5 rows x 27 columns]"
      ]
     },
     "execution_count": 3,
     "metadata": {},
     "output_type": "execute_result"
    }
   ],
   "source": [
    "#Vizualizo las primeras filas del DataFrame\n",
    "df_lesiones_h.head()"
   ]
  },
  {
   "cell_type": "code",
   "execution_count": 4,
   "metadata": {},
   "outputs": [
    {
     "name": "stdout",
     "output_type": "stream",
     "text": [
      "<class 'pandas.core.frame.DataFrame'>\n",
      "RangeIndex: 23785 entries, 0 to 23784\n",
      "Data columns (total 27 columns):\n",
      " #   Column                 Non-Null Count  Dtype  \n",
      "---  ------                 --------------  -----  \n",
      " 0   id                     23785 non-null  object \n",
      " 1   n_victimas             23785 non-null  int64  \n",
      " 2   aaaa                   23785 non-null  int64  \n",
      " 3   mm                     23785 non-null  int64  \n",
      " 4   dd                     23785 non-null  int64  \n",
      " 5   fecha                  23785 non-null  object \n",
      " 6   hora                   23785 non-null  object \n",
      " 7   franja_hora            23780 non-null  object \n",
      " 8   direccion_normalizada  23732 non-null  object \n",
      " 9   comuna                 23616 non-null  object \n",
      " 10  tipo_calle             23785 non-null  object \n",
      " 11  otra_direccion         23785 non-null  object \n",
      " 12  calle                  12867 non-null  object \n",
      " 13  altura                 12771 non-null  float64\n",
      " 14  cruce                  9407 non-null   object \n",
      " 15  geocodificacion_CABA   23746 non-null  object \n",
      " 16  longitud               23523 non-null  object \n",
      " 17  latutid                23523 non-null  object \n",
      " 18  victima                23785 non-null  object \n",
      " 19  acusado                23785 non-null  object \n",
      " 20  participantes          23785 non-null  object \n",
      " 21  moto                   23692 non-null  object \n",
      " 22  auto                   23692 non-null  object \n",
      " 23  transporte_publico     23692 non-null  object \n",
      " 24  camion                 23692 non-null  object \n",
      " 25  ciclista               23692 non-null  object \n",
      " 26  gravedad               23785 non-null  object \n",
      "dtypes: float64(1), int64(4), object(22)\n",
      "memory usage: 4.9+ MB\n"
     ]
    }
   ],
   "source": [
    "df_lesiones_h.info()"
   ]
  },
  {
   "cell_type": "markdown",
   "metadata": {},
   "source": [
    "### 3.1.2. Limpieza y Normalización de datos"
   ]
  },
  {
   "cell_type": "code",
   "execution_count": 5,
   "metadata": {},
   "outputs": [
    {
     "name": "stdout",
     "output_type": "stream",
     "text": [
      "                  Columna  Cantidad de SD  Porcentaje de SD\n",
      "0                    hora               4          0.016817\n",
      "1   direccion_normalizada           10815         45.469834\n",
      "2                  comuna             846          3.556864\n",
      "3              tipo_calle           11045         46.436830\n",
      "4          otra_direccion           18295         76.918226\n",
      "5    geocodificacion_CABA            1213          5.099853\n",
      "6                longitud            1209          5.083036\n",
      "7                 latutid            1209          5.083036\n",
      "8                 victima           10733         45.125079\n",
      "9                 acusado           15288         64.275804\n",
      "10                   moto            8511         35.783057\n",
      "11                   auto           12543         52.734917\n",
      "12     transporte_publico           11801         49.615304\n",
      "13                 camion           12708         53.428631\n",
      "14               ciclista           11353         47.731764\n",
      "15               gravedad           23056         96.935043\n"
     ]
    }
   ],
   "source": [
    "# Usando la funcion contar_valores_sd para ver la cantidad y porcentaje de valores \"SD\"\n",
    "contar_sd = contar_valores_sd(df_lesiones_h)\n",
    "print(contar_sd)"
   ]
  },
  {
   "cell_type": "code",
   "execution_count": 6,
   "metadata": {},
   "outputs": [],
   "source": [
    "# Reemplazar \"sd\" y \"SD\" con NaN en todo el DataFrame\n",
    "df_lesiones_h.replace({\"sd\": np.nan, \"SD\": np.nan}, inplace=True)"
   ]
  },
  {
   "cell_type": "code",
   "execution_count": 7,
   "metadata": {},
   "outputs": [
    {
     "name": "stdout",
     "output_type": "stream",
     "text": [
      "id                           0\n",
      "n_victimas                   0\n",
      "aaaa                         0\n",
      "mm                           0\n",
      "dd                           0\n",
      "fecha                        0\n",
      "hora                         9\n",
      "franja_hora                  9\n",
      "direccion_normalizada    10868\n",
      "comuna                    1015\n",
      "tipo_calle               11045\n",
      "otra_direccion           18295\n",
      "calle                    10918\n",
      "altura                   11014\n",
      "cruce                    14378\n",
      "geocodificacion_CABA      1252\n",
      "longitud                  1471\n",
      "latutid                   1471\n",
      "victima                  10733\n",
      "acusado                  15288\n",
      "participantes                0\n",
      "moto                      8604\n",
      "auto                     12636\n",
      "transporte_publico       11894\n",
      "camion                   12801\n",
      "ciclista                 11446\n",
      "gravedad                 23139\n",
      "dtype: int64\n"
     ]
    }
   ],
   "source": [
    "# Contar filas vacías por columna\n",
    "filas_vacias_por_columna_v = df_lesiones_h.isnull().sum()\n",
    "print(filas_vacias_por_columna_v)"
   ]
  },
  {
   "cell_type": "code",
   "execution_count": 8,
   "metadata": {},
   "outputs": [
    {
     "name": "stdout",
     "output_type": "stream",
     "text": [
      "0\n"
     ]
    }
   ],
   "source": [
    "# Contar filas duplicadas\n",
    "duplicados_totales = df_lesiones_h.duplicated().sum()\n",
    "print(duplicados_totales)"
   ]
  },
  {
   "cell_type": "markdown",
   "metadata": {},
   "source": [
    "Como se logra ver nuestro DataFrame no tiene filas duplicadas"
   ]
  },
  {
   "cell_type": "code",
   "execution_count": 9,
   "metadata": {},
   "outputs": [],
   "source": [
    "# Columnas para eliminar\n",
    "columns_to_drop = ['aaaa','mm', 'dd', 'hora', 'direccion_normalizada', 'otra_direccion', 'calle', 'altura', 'cruce',\n",
    "                   'participantes', 'geocodificacion_CABA', 'moto', 'auto', 'transporte_publico', 'camion', 'ciclista']"
   ]
  },
  {
   "cell_type": "markdown",
   "metadata": {},
   "source": [
    "Decidi eliminar las columnas 'AAAA', 'MM', y 'DD' debido que tenemos una columna 'fecha' donde tenemos todo los datos de las 3 columnas anteriores. Tambien mantiene una estructura más estandarizada, ahorra espacio y facilita el análisis.\n",
    "\n",
    "Tambien eliminamos la columna 'Hora' debido que la informacion que posee ya la tenemos en otra columna 'HH' y nos facilita el tipo de informacion para trabajar de forma mas rapida\n",
    "\n",
    "Así mismo las columnas 'LUGAR_DEL_HECHO','Calle','Dirección Normalizada', tienen datos que encontramos en direccion de los hechos y tambien 'XY (CABA)' que contienen coordenadas en formato de proyección cartesiana también fue eliminada. Preferimos trabajar con las columnas de 'latitud' y 'longitud' debido que en el DataFrame anterior venimos trabajando con ese formato\n",
    "\n",
    "La siguientes columnas 'moto', 'auto', 'transporte_publico', 'camion', 'ciclista' pienso que tienen muchos valores faltantes y complicaria el analis\n",
    "\n"
   ]
  },
  {
   "cell_type": "code",
   "execution_count": 10,
   "metadata": {},
   "outputs": [],
   "source": [
    "# Renombrar columnas\n",
    "\n",
    "rename_dict = {'id': 'id_siniestro', 'n_victimas': 'nro_victimas',\n",
    "               'latutid': 'latitud', 'victima': 'vehiculo_victima', 'acusado': 'vehiculo_acusado'}"
   ]
  },
  {
   "cell_type": "markdown",
   "metadata": {},
   "source": [
    "Renombramos columnas para mejorar el entendimiento de la columna(una forma más descrptiva)"
   ]
  },
  {
   "cell_type": "code",
   "execution_count": 11,
   "metadata": {},
   "outputs": [],
   "source": [
    "# Columnas para pasar a minúcula\n",
    "\n",
    "columns_to_lower = ['tipo_calle', 'victima', 'acusado', 'gravedad']"
   ]
  },
  {
   "cell_type": "markdown",
   "metadata": {},
   "source": [
    "Uso la funcion lower para normalizar los valores ,debido que observo los valores en mayuscula y es preferible trabajar todo en minuscula"
   ]
  },
  {
   "cell_type": "code",
   "execution_count": 12,
   "metadata": {},
   "outputs": [],
   "source": [
    "# Reemplazar valores nulos por otros valores\n",
    "\n",
    "fill_na_dict = {'gravedad': 'lesiones'}"
   ]
  },
  {
   "cell_type": "markdown",
   "metadata": {},
   "source": [
    "En la columna 'gravedad' debido que la gran mayoria de sus valores son NaN o nulos decidi reemplazar por un valores común para todos"
   ]
  },
  {
   "cell_type": "code",
   "execution_count": 13,
   "metadata": {},
   "outputs": [],
   "source": [
    "# Convertir a flotante\n",
    "columns_to_float = [ 'latitud', 'longitud']"
   ]
  },
  {
   "cell_type": "code",
   "execution_count": 14,
   "metadata": {},
   "outputs": [],
   "source": [
    "# Convertir a entero\n",
    "columns_to_int = [ 'nro_victimas', 'franja_hora', 'comuna']\n",
    "\n",
    "# Categorización de columnas\n",
    "columns_to_categorize = ['franja_hora', 'tipo_calle', 'comuna', 'vehiculo_victima', 'vehiculo_acusado', 'gravedad']"
   ]
  },
  {
   "cell_type": "markdown",
   "metadata": {},
   "source": [
    "Convierti las columnas para una mayor facilidad al manipular los datos y tambien la compatibilidad para realizar funciones"
   ]
  },
  {
   "cell_type": "code",
   "execution_count": 15,
   "metadata": {},
   "outputs": [
    {
     "name": "stderr",
     "output_type": "stream",
     "text": [
      "C:\\Users\\U ANGEL\\AppData\\Local\\Temp\\ipykernel_14044\\3367288588.py:3: UserWarning: Pandas doesn't allow columns to be created via a new attribute name - see https://pandas.pydata.org/pandas-docs/stable/indexing.html#attribute-access\n",
      "  df_lesiones_h.cleaned = data_cleaned(df_lesiones_h,\n"
     ]
    }
   ],
   "source": [
    "# Invocamos la función 'data_cleaning' para que haga el proceso de limpieza de los datos \n",
    "\n",
    "df_lesiones_h.cleaned = data_cleaned(df_lesiones_h,\n",
    "                                    strip_spaces=True, # Eliminar espacios en blanco\n",
    "                                    drop_columns=columns_to_drop,  # Eliminar columnas\n",
    "                                    rename_columns=rename_dict,  # Renombrar columnas\n",
    "                                    lowercase_columns=columns_to_lower, # Convertir a minúsculas \n",
    "                                    fill_na=fill_na_dict, # Rellenar nulos                                                             \n",
    "                                    convert_to_float=columns_to_float, # Convertir a float\n",
    "                                    convert_to_int_columns=columns_to_int, #Conversión entero\n",
    "                                    categorize_columns=columns_to_categorize # Categorizar columnas\n",
    "                                   )"
   ]
  },
  {
   "cell_type": "code",
   "execution_count": 16,
   "metadata": {},
   "outputs": [
    {
     "data": {
      "text/html": [
       "<div>\n",
       "<style scoped>\n",
       "    .dataframe tbody tr th:only-of-type {\n",
       "        vertical-align: middle;\n",
       "    }\n",
       "\n",
       "    .dataframe tbody tr th {\n",
       "        vertical-align: top;\n",
       "    }\n",
       "\n",
       "    .dataframe thead th {\n",
       "        text-align: right;\n",
       "    }\n",
       "</style>\n",
       "<table border=\"1\" class=\"dataframe\">\n",
       "  <thead>\n",
       "    <tr style=\"text-align: right;\">\n",
       "      <th></th>\n",
       "      <th>id_siniestro</th>\n",
       "      <th>nro_victimas</th>\n",
       "      <th>fecha</th>\n",
       "      <th>franja_hora</th>\n",
       "      <th>comuna</th>\n",
       "      <th>tipo_calle</th>\n",
       "      <th>longitud</th>\n",
       "      <th>latitud</th>\n",
       "      <th>vehiculo_victima</th>\n",
       "      <th>vehiculo_acusado</th>\n",
       "      <th>gravedad</th>\n",
       "    </tr>\n",
       "  </thead>\n",
       "  <tbody>\n",
       "    <tr>\n",
       "      <th>0</th>\n",
       "      <td>LC-2019-0000179</td>\n",
       "      <td>1</td>\n",
       "      <td>2019-01-01 00:00:00</td>\n",
       "      <td>9</td>\n",
       "      <td>14</td>\n",
       "      <td>NaN</td>\n",
       "      <td>-58.408911</td>\n",
       "      <td>-34.559658</td>\n",
       "      <td>ciclista</td>\n",
       "      <td>NaN</td>\n",
       "      <td>lesiones</td>\n",
       "    </tr>\n",
       "    <tr>\n",
       "      <th>1</th>\n",
       "      <td>LC-2019-0000053</td>\n",
       "      <td>1</td>\n",
       "      <td>2019-01-01 00:00:00</td>\n",
       "      <td>1</td>\n",
       "      <td>8</td>\n",
       "      <td>NaN</td>\n",
       "      <td>-58.443510</td>\n",
       "      <td>-34.669125</td>\n",
       "      <td>auto</td>\n",
       "      <td>NaN</td>\n",
       "      <td>lesiones</td>\n",
       "    </tr>\n",
       "    <tr>\n",
       "      <th>2</th>\n",
       "      <td>LC-2019-0000063</td>\n",
       "      <td>1</td>\n",
       "      <td>2019-01-01 00:00:00</td>\n",
       "      <td>2</td>\n",
       "      <td>8</td>\n",
       "      <td>NaN</td>\n",
       "      <td>-58.468335</td>\n",
       "      <td>-34.677556</td>\n",
       "      <td>NaN</td>\n",
       "      <td>NaN</td>\n",
       "      <td>lesiones</td>\n",
       "    </tr>\n",
       "    <tr>\n",
       "      <th>3</th>\n",
       "      <td>LC-2019-0000079</td>\n",
       "      <td>1</td>\n",
       "      <td>2019-01-01 00:00:00</td>\n",
       "      <td>2</td>\n",
       "      <td>7</td>\n",
       "      <td>NaN</td>\n",
       "      <td>-58.437425</td>\n",
       "      <td>-34.647349</td>\n",
       "      <td>peaton</td>\n",
       "      <td>NaN</td>\n",
       "      <td>lesiones</td>\n",
       "    </tr>\n",
       "    <tr>\n",
       "      <th>4</th>\n",
       "      <td>LC-2019-0000082</td>\n",
       "      <td>4</td>\n",
       "      <td>2019-01-01 00:00:00</td>\n",
       "      <td>4</td>\n",
       "      <td>3</td>\n",
       "      <td>NaN</td>\n",
       "      <td>-58.398225</td>\n",
       "      <td>-34.604579</td>\n",
       "      <td>auto</td>\n",
       "      <td>NaN</td>\n",
       "      <td>lesiones</td>\n",
       "    </tr>\n",
       "  </tbody>\n",
       "</table>\n",
       "</div>"
      ],
      "text/plain": [
       "      id_siniestro  nro_victimas                fecha  franja_hora  comuna  \\\n",
       "0  LC-2019-0000179             1  2019-01-01 00:00:00            9      14   \n",
       "1  LC-2019-0000053             1  2019-01-01 00:00:00            1       8   \n",
       "2  LC-2019-0000063             1  2019-01-01 00:00:00            2       8   \n",
       "3  LC-2019-0000079             1  2019-01-01 00:00:00            2       7   \n",
       "4  LC-2019-0000082             4  2019-01-01 00:00:00            4       3   \n",
       "\n",
       "  tipo_calle   longitud    latitud vehiculo_victima vehiculo_acusado  gravedad  \n",
       "0        NaN -58.408911 -34.559658         ciclista              NaN  lesiones  \n",
       "1        NaN -58.443510 -34.669125             auto              NaN  lesiones  \n",
       "2        NaN -58.468335 -34.677556              NaN              NaN  lesiones  \n",
       "3        NaN -58.437425 -34.647349           peaton              NaN  lesiones  \n",
       "4        NaN -58.398225 -34.604579             auto              NaN  lesiones  "
      ]
     },
     "execution_count": 16,
     "metadata": {},
     "output_type": "execute_result"
    }
   ],
   "source": [
    "df_lesiones_h.cleaned.head()"
   ]
  },
  {
   "cell_type": "code",
   "execution_count": 17,
   "metadata": {},
   "outputs": [],
   "source": [
    "df_lesiones_v = pd.read_excel(\"DataSets/lesiones.xlsx\", sheet_name=\"VICTIMAS\")"
   ]
  },
  {
   "cell_type": "markdown",
   "metadata": {},
   "source": [
    "## 3.4. Dataset: Lesiones - Víctimas"
   ]
  },
  {
   "cell_type": "markdown",
   "metadata": {},
   "source": [
    "### 3.4.1. Exploración inicial de los datos"
   ]
  },
  {
   "cell_type": "code",
   "execution_count": 18,
   "metadata": {},
   "outputs": [
    {
     "data": {
      "text/html": [
       "<div>\n",
       "<style scoped>\n",
       "    .dataframe tbody tr th:only-of-type {\n",
       "        vertical-align: middle;\n",
       "    }\n",
       "\n",
       "    .dataframe tbody tr th {\n",
       "        vertical-align: top;\n",
       "    }\n",
       "\n",
       "    .dataframe thead th {\n",
       "        text-align: right;\n",
       "    }\n",
       "</style>\n",
       "<table border=\"1\" class=\"dataframe\">\n",
       "  <thead>\n",
       "    <tr style=\"text-align: right;\">\n",
       "      <th></th>\n",
       "      <th>ID hecho</th>\n",
       "      <th>AAA</th>\n",
       "      <th>MM</th>\n",
       "      <th>DD</th>\n",
       "      <th>FECHA</th>\n",
       "      <th>VEHICULO_VICTIMA</th>\n",
       "      <th>SEXO</th>\n",
       "      <th>EDAD_VICTIMA</th>\n",
       "      <th>GRAVEDAD</th>\n",
       "    </tr>\n",
       "  </thead>\n",
       "  <tbody>\n",
       "    <tr>\n",
       "      <th>0</th>\n",
       "      <td>LC-2019-0000053</td>\n",
       "      <td>2019</td>\n",
       "      <td>1</td>\n",
       "      <td>1</td>\n",
       "      <td>2019-01-01</td>\n",
       "      <td>sd</td>\n",
       "      <td>Varon</td>\n",
       "      <td>57</td>\n",
       "      <td>SD</td>\n",
       "    </tr>\n",
       "    <tr>\n",
       "      <th>1</th>\n",
       "      <td>LC-2019-0000063</td>\n",
       "      <td>2019</td>\n",
       "      <td>1</td>\n",
       "      <td>1</td>\n",
       "      <td>2019-01-01</td>\n",
       "      <td>sd</td>\n",
       "      <td>SD</td>\n",
       "      <td>SD</td>\n",
       "      <td>SD</td>\n",
       "    </tr>\n",
       "    <tr>\n",
       "      <th>2</th>\n",
       "      <td>LC-2019-0000079</td>\n",
       "      <td>2019</td>\n",
       "      <td>1</td>\n",
       "      <td>1</td>\n",
       "      <td>2019-01-01</td>\n",
       "      <td>sd</td>\n",
       "      <td>Varon</td>\n",
       "      <td>SD</td>\n",
       "      <td>SD</td>\n",
       "    </tr>\n",
       "    <tr>\n",
       "      <th>3</th>\n",
       "      <td>LC-2019-0000082</td>\n",
       "      <td>2019</td>\n",
       "      <td>1</td>\n",
       "      <td>1</td>\n",
       "      <td>2019-01-01</td>\n",
       "      <td>sd</td>\n",
       "      <td>Varon</td>\n",
       "      <td>45</td>\n",
       "      <td>SD</td>\n",
       "    </tr>\n",
       "    <tr>\n",
       "      <th>4</th>\n",
       "      <td>LC-2019-0000082</td>\n",
       "      <td>2019</td>\n",
       "      <td>1</td>\n",
       "      <td>1</td>\n",
       "      <td>2019-01-01</td>\n",
       "      <td>sd</td>\n",
       "      <td>Mujer</td>\n",
       "      <td>45</td>\n",
       "      <td>SD</td>\n",
       "    </tr>\n",
       "  </tbody>\n",
       "</table>\n",
       "</div>"
      ],
      "text/plain": [
       "          ID hecho   AAA  MM  DD     FECHA  VEHICULO_VICTIMA   SEXO  \\\n",
       "0  LC-2019-0000053  2019   1   1 2019-01-01               sd  Varon   \n",
       "1  LC-2019-0000063  2019   1   1 2019-01-01               sd     SD   \n",
       "2  LC-2019-0000079  2019   1   1 2019-01-01               sd  Varon   \n",
       "3  LC-2019-0000082  2019   1   1 2019-01-01               sd  Varon   \n",
       "4  LC-2019-0000082  2019   1   1 2019-01-01               sd  Mujer   \n",
       "\n",
       "  EDAD_VICTIMA GRAVEDAD  \n",
       "0           57       SD  \n",
       "1           SD       SD  \n",
       "2           SD       SD  \n",
       "3           45       SD  \n",
       "4           45       SD  "
      ]
     },
     "execution_count": 18,
     "metadata": {},
     "output_type": "execute_result"
    }
   ],
   "source": [
    "df_lesiones_v.head()"
   ]
  },
  {
   "cell_type": "code",
   "execution_count": 19,
   "metadata": {},
   "outputs": [
    {
     "name": "stdout",
     "output_type": "stream",
     "text": [
      "<class 'pandas.core.frame.DataFrame'>\n",
      "RangeIndex: 27605 entries, 0 to 27604\n",
      "Data columns (total 9 columns):\n",
      " #   Column            Non-Null Count  Dtype         \n",
      "---  ------            --------------  -----         \n",
      " 0   ID hecho          27605 non-null  object        \n",
      " 1   AAA               27605 non-null  int64         \n",
      " 2   MM                27605 non-null  int64         \n",
      " 3   DD                27605 non-null  int64         \n",
      " 4   FECHA             27605 non-null  datetime64[ns]\n",
      " 5   VEHICULO_VICTIMA  27605 non-null  object        \n",
      " 6   SEXO              27605 non-null  object        \n",
      " 7   EDAD_VICTIMA      27605 non-null  object        \n",
      " 8   GRAVEDAD          27605 non-null  object        \n",
      "dtypes: datetime64[ns](1), int64(3), object(5)\n",
      "memory usage: 1.9+ MB\n"
     ]
    }
   ],
   "source": [
    "df_lesiones_v.info()"
   ]
  },
  {
   "cell_type": "markdown",
   "metadata": {},
   "source": [
    "### 3.1.2. Limpieza y Normalización de datos"
   ]
  },
  {
   "cell_type": "code",
   "execution_count": 20,
   "metadata": {},
   "outputs": [
    {
     "name": "stdout",
     "output_type": "stream",
     "text": [
      "            Columna  Cantidad de SD  Porcentaje de SD\n",
      "0  VEHICULO_VICTIMA            4479         16.225321\n",
      "1              SEXO            1929          6.987865\n",
      "2      EDAD_VICTIMA            3990         14.453903\n",
      "3          GRAVEDAD           20722         75.066111\n"
     ]
    }
   ],
   "source": [
    "# Usando la funcion contar_valores_sd para ver la cantidad y porcentaje de valores \"SD\"\n",
    "contar_sd = contar_valores_sd(df_lesiones_v)\n",
    "print(contar_sd)"
   ]
  },
  {
   "cell_type": "code",
   "execution_count": 21,
   "metadata": {},
   "outputs": [],
   "source": [
    "# Reemplazar \"sd\" y \"SD\" con NaN en todo el DataFrame\n",
    "df_lesiones_v.replace([\"sd\", \"SD\"], np.nan, inplace=True)"
   ]
  },
  {
   "cell_type": "code",
   "execution_count": 22,
   "metadata": {},
   "outputs": [
    {
     "name": "stdout",
     "output_type": "stream",
     "text": [
      "ID hecho                0\n",
      "AAA                     0\n",
      "MM                      0\n",
      "DD                      0\n",
      "FECHA                   0\n",
      "VEHICULO_VICTIMA    16272\n",
      "SEXO                 2228\n",
      "EDAD_VICTIMA         4471\n",
      "GRAVEDAD            27068\n",
      "dtype: int64\n"
     ]
    }
   ],
   "source": [
    "# Contar filas vacías por columna\n",
    "filas_vacias_por_columna_v = df_lesiones_v.isnull().sum()\n",
    "print(filas_vacias_por_columna_v)"
   ]
  },
  {
   "cell_type": "code",
   "execution_count": 23,
   "metadata": {},
   "outputs": [
    {
     "name": "stdout",
     "output_type": "stream",
     "text": [
      "631\n"
     ]
    }
   ],
   "source": [
    "# Contar filas duplicadas\n",
    "duplicados_totales = df_lesiones_v.duplicated().sum()\n",
    "print(duplicados_totales)"
   ]
  },
  {
   "cell_type": "markdown",
   "metadata": {},
   "source": [
    "Como se logra ver nuestro DataFrame, tienen filas duplicadas pero debido que como los vehiculos no solo llevan un pasajero no borrare filas. Porque muchos de ellos tienen columnas con valores similares pero le distingue un valor sea sexo o edad y no son del todo iguales"
   ]
  },
  {
   "cell_type": "code",
   "execution_count": 24,
   "metadata": {},
   "outputs": [],
   "source": [
    "# Columnas para eliminar\n",
    "columns_to_drop = ['FECHA ','AAA', 'MM', 'DD','VEHICULO_VICTIMA','GRAVEDAD']"
   ]
  },
  {
   "cell_type": "markdown",
   "metadata": {},
   "source": [
    "Las columnas que estamos eliminando 'FECHA','AAAA', 'MM', 'DD','VEHICULO_VICTIMA' y 'GRAVEDAD' ya tenemos en el DataFrame 'Hechos' "
   ]
  },
  {
   "cell_type": "code",
   "execution_count": 25,
   "metadata": {},
   "outputs": [],
   "source": [
    "# Renombrar columnas\n",
    "rename_dict = {'ID hecho': 'id_siniestro', 'SEXO': 'sexo', 'EDAD_VICTIMA': 'edad'}"
   ]
  },
  {
   "cell_type": "markdown",
   "metadata": {},
   "source": [
    "Renombramos columnas para mejorar el entendimiento de la columna(una forma más descrptiva)"
   ]
  },
  {
   "cell_type": "code",
   "execution_count": 26,
   "metadata": {},
   "outputs": [],
   "source": [
    "# Columnas para pasar a minúcula\n",
    "\n",
    "columns_to_lower = ['SEXO']"
   ]
  },
  {
   "cell_type": "code",
   "execution_count": 27,
   "metadata": {},
   "outputs": [],
   "source": [
    "# Reemplazar valores en columnas\n",
    "values_to_replace = {'sexo': {'varon': 'masculino', 'mujer': 'femenino'}}"
   ]
  },
  {
   "cell_type": "markdown",
   "metadata": {},
   "source": [
    "Uso la funcio replace porque es más comun usar 'masculino' y 'femenino' al dirigirse a un hombre y mujer"
   ]
  },
  {
   "cell_type": "code",
   "execution_count": 28,
   "metadata": {},
   "outputs": [],
   "source": [
    "# Categorización de columnas\n",
    "\n",
    "columns_to_categorize = ['sexo','edad']"
   ]
  },
  {
   "cell_type": "markdown",
   "metadata": {},
   "source": [
    "Convierti las columnas para una mayor facilidad al manipular los datos y tambien la compatibilidad para realizar funciones"
   ]
  },
  {
   "cell_type": "code",
   "execution_count": 29,
   "metadata": {},
   "outputs": [
    {
     "name": "stderr",
     "output_type": "stream",
     "text": [
      "c:\\Users\\U ANGEL\\Desktop\\Data Sciense\\P02_LAB\\Lab\\funciones.py:120: FutureWarning: The behavior of Series.replace (and DataFrame.replace) with CategoricalDtype is deprecated. In a future version, replace will only be used for cases that preserve the categories. To change the categories, use ser.cat.rename_categories instead.\n",
      "  df_cleaned[column] = df_cleaned[column].replace(replacements)\n"
     ]
    }
   ],
   "source": [
    "# Invocamos la función 'data_cleaning' para que haga el proceso de limpieza de los datos \n",
    "\n",
    "df_lesiones_v_cleaned = data_cleaned(df_lesiones_v,\n",
    "                                    strip_spaces=True, # Eliminar espacios en blanco\n",
    "                                    lowercase_columns=columns_to_lower, # Convertir a minúsculas                                    \n",
    "                                    drop_columns=columns_to_drop,  # Eliminar columnas\n",
    "                                    rename_columns=rename_dict,  # Renombrar columnas \n",
    "                                    replace_values=values_to_replace, # Reemplazar valores\n",
    "                                    categorize_columns=columns_to_categorize, # Categorizar columnas\n",
    "                                    )"
   ]
  },
  {
   "cell_type": "code",
   "execution_count": 30,
   "metadata": {},
   "outputs": [
    {
     "data": {
      "text/html": [
       "<div>\n",
       "<style scoped>\n",
       "    .dataframe tbody tr th:only-of-type {\n",
       "        vertical-align: middle;\n",
       "    }\n",
       "\n",
       "    .dataframe tbody tr th {\n",
       "        vertical-align: top;\n",
       "    }\n",
       "\n",
       "    .dataframe thead th {\n",
       "        text-align: right;\n",
       "    }\n",
       "</style>\n",
       "<table border=\"1\" class=\"dataframe\">\n",
       "  <thead>\n",
       "    <tr style=\"text-align: right;\">\n",
       "      <th></th>\n",
       "      <th>id_siniestro</th>\n",
       "      <th>sexo</th>\n",
       "      <th>edad</th>\n",
       "    </tr>\n",
       "  </thead>\n",
       "  <tbody>\n",
       "    <tr>\n",
       "      <th>0</th>\n",
       "      <td>LC-2019-0000053</td>\n",
       "      <td>masculino</td>\n",
       "      <td>57</td>\n",
       "    </tr>\n",
       "    <tr>\n",
       "      <th>1</th>\n",
       "      <td>LC-2019-0000063</td>\n",
       "      <td>NaN</td>\n",
       "      <td>NaN</td>\n",
       "    </tr>\n",
       "    <tr>\n",
       "      <th>2</th>\n",
       "      <td>LC-2019-0000079</td>\n",
       "      <td>masculino</td>\n",
       "      <td>NaN</td>\n",
       "    </tr>\n",
       "    <tr>\n",
       "      <th>3</th>\n",
       "      <td>LC-2019-0000082</td>\n",
       "      <td>masculino</td>\n",
       "      <td>45</td>\n",
       "    </tr>\n",
       "    <tr>\n",
       "      <th>4</th>\n",
       "      <td>LC-2019-0000082</td>\n",
       "      <td>femenino</td>\n",
       "      <td>45</td>\n",
       "    </tr>\n",
       "  </tbody>\n",
       "</table>\n",
       "</div>"
      ],
      "text/plain": [
       "      id_siniestro       sexo edad\n",
       "0  LC-2019-0000053  masculino   57\n",
       "1  LC-2019-0000063        NaN  NaN\n",
       "2  LC-2019-0000079  masculino  NaN\n",
       "3  LC-2019-0000082  masculino   45\n",
       "4  LC-2019-0000082   femenino   45"
      ]
     },
     "execution_count": 30,
     "metadata": {},
     "output_type": "execute_result"
    }
   ],
   "source": [
    "df_lesiones_v_cleaned.head()"
   ]
  }
 ],
 "metadata": {
  "kernelspec": {
   "display_name": "Lab",
   "language": "python",
   "name": "python3"
  },
  "language_info": {
   "codemirror_mode": {
    "name": "ipython",
    "version": 3
   },
   "file_extension": ".py",
   "mimetype": "text/x-python",
   "name": "python",
   "nbconvert_exporter": "python",
   "pygments_lexer": "ipython3",
   "version": "3.11.8"
  }
 },
 "nbformat": 4,
 "nbformat_minor": 2
}
